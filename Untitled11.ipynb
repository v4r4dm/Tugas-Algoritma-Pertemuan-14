import json # Digunakan untuk menyimpan dan memuat data dalam format JSON [cite: 33]

# 1. Struktur Data
# Kami akan menggunakan list (daftar) yang berisi dictionary (kamus) untuk menyimpan data sepatu. [cite: 27]
# Setiap dictionary akan merepresentasikan satu jenis sepatu dengan atribut-atributnya.
# Contoh struktur dictionary untuk satu sepatu:
# {
#     "kode": "SKN101",
#     "nama": "Sneaker Keren",
#     "ukuran": [39, 40, 41, 42, 43], # Menggunakan list untuk ukuran yang tersedia
#     "warna": ["Putih", "Hitam"],   # Menggunakan list untuk warna yang tersedia
#     "harga": 750000,
#     "stok": {"39-Putih": 10, "40-Putih": 15, "41-Hitam": 12}, # Dictionary untuk stok per kombinasi ukuran-warna
#     "kategori": "Sneakers"
# }
shoes_inventory = []

# 2. Fungsi/Prosedur (Modularisasi kode) [cite: 30]

def tambah_sepatu(inventory, kode, nama, ukuran, warna, harga, stok_detail, kategori):
    """
    Menambah sepatu baru ke inventori toko. [cite: 37]

    Args:
        inventory (list): Daftar inventori sepatu.
        kode (str): Kode unik sepatu.
        nama (str): Nama sepatu.
        ukuran (list): Daftar ukuran yang tersedia.
        warna (list): Daftar warna yang tersedia.
        harga (int): Harga sepatu.
        stok_detail (dict): Detail stok per kombinasi ukuran-warna (misal: {"39-Putih": 10}).
        kategori (str): Kategori sepatu (misal: "Sneakers", "Boots").

    Returns:
        bool: True jika berhasil, False jika gagal.

    Raises:
        ValueError: Jika input tidak valid. [cite: 86, 87]
    """
    # Validasi input pengguna [cite: 28, 44]
    if not all([kode, nama, ukuran, warna, harga, stok_detail, kategori]):
        raise ValueError("Semua kolom harus diisi dan tidak boleh kosong.")
    if not isinstance(harga, (int, float)) or harga <= 0:
        raise ValueError("Harga harus berupa angka positif.")
    if not isinstance(ukuran, list) or not all(isinstance(u, int) and u > 0 for u in ukuran):
        raise ValueError("Ukuran harus berupa daftar angka bulat positif.")
    if not isinstance(warna, list) or not all(isinstance(w, str) and w.strip() != '' for w in warna):
        raise ValueError("Warna harus berupa daftar string tidak kosong.")
    if not isinstance(stok_detail, dict) or not all(isinstance(s, int) and s >= 0 for s in stok_detail.values()):
        raise ValueError("Stok harus berupa dictionary dengan nilai stok angka non-negatif.")

    # Periksa kode duplikat (untuk memastikan kode sepatu unik)
    for sepatu in inventory:
        if sepatu["kode"].lower() == kode.lower(): # Case-insensitive check
            print(f"Error: Kode sepatu '{kode}' sudah ada. Gunakan kode lain.")
            return False

    # Buat dictionary baru untuk sepatu
    new_shoe = {
        "kode": kode.upper(), # Simpan kode dalam huruf kapital untuk konsistensi
        "nama": nama,
        "ukuran": sorted(list(set(ukuran))), # Urutkan ukuran dan hapus duplikat
        "warna": sorted(list(set(warna))),   # Urutkan warna dan hapus duplikat
        "harga": harga,
        "stok": stok_detail,
        "kategori": kategori
    }
    inventory.append(new_shoe)
    print(f"Sepatu '{nama}' dengan kode '{kode}' berhasil ditambahkan.")
    return True

def cari_sepatu(inventory, query, search_by="nama"):
    """
    Mencari sepatu berdasarkan nama atau kode. [cite: 38]

    Args:
        inventory (list): Daftar inventori sepatu.
        query (str): Nama atau kode yang dicari.
        search_by (str): Kriteria pencarian ("nama" atau "kode").

    Returns:
        list: Daftar sepatu yang cocok.
    """
    results = []
    # Menggunakan algoritma pencarian linear (iterasi melalui setiap item) [cite: 25]
    for sepatu in inventory: # Struktur kontrol: loop [cite: 31]
        if search_by.lower() == "nama" and query.lower() in sepatu["nama"].lower():
            results.append(sepatu)
        elif search_by.lower() == "kode" and query.lower() == sepatu["kode"].lower():
            results.append(sepatu)
    return results

def update_stok(inventory, kode, ukuran_warna, jumlah):
    """
    Mengupdate stok sepatu tertentu berdasarkan kode dan kombinasi ukuran-warna. [cite: 39]

    Args:
        inventory (list): Daftar inventori sepatu.
        kode (str): Kode sepatu yang akan diupdate.
        ukuran_warna (str): Kombinasi ukuran dan warna (misal: "40-Putih").
        jumlah (int): Jumlah stok baru.

    Returns:
        bool: True jika berhasil, False jika gagal.
    """
    if not isinstance(jumlah, int) or jumlah < 0:
        print("Error: Jumlah stok harus berupa angka non-negatif.")
        return False

    for sepatu in inventory: # Struktur kontrol: loop [cite: 31]
        if sepatu["kode"].lower() == kode.lower():
            if ukuran_warna in sepatu["stok"]:
                sepatu["stok"][ukuran_warna] = jumlah
                print(f"Stok sepatu '{sepatu['nama']}' ukuran-warna '{ukuran_warna}' berhasil diupdate menjadi {jumlah}.")
                return True
            else:
                print(f"Error: Kombinasi ukuran-warna '{ukuran_warna}' tidak ditemukan untuk sepatu ini.")
                print(f"Stok yang tersedia untuk sepatu ini: {', '.join(sepatu['stok'].keys())}")
                return False
    print(f"Error: Sepatu dengan kode '{kode}' tidak ditemukan.")
    return False

def hapus_sepatu(inventory, kode):
    """
    Menghapus sepatu dari inventori berdasarkan kode. [cite: 40]

    Args:
        inventory (list): Daftar inventori sepatu.
        kode (str): Kode sepatu yang akan dihapus.

    Returns:
        bool: True jika berhasil, False jika gagal.
    """
    initial_len = len(inventory)
    # Membuat daftar baru yang tidak menyertakan sepatu dengan kode yang cocok
    inventory[:] = [sepatu for sepatu in inventory if sepatu["kode"].lower() != kode.lower()]
    if len(inventory) < initial_len:
        print(f"Sepatu dengan kode '{kode}' berhasil dihapus.")
        return True
    else:
        print(f"Error: Sepatu dengan kode '{kode}' tidak ditemukan.")
        return False

def tampilkan_laporan_inventori(inventory):
    """
    Menampilkan laporan inventori semua sepatu. [cite: 41]
    """
    if not inventory:
        print("Inventori kosong. Silakan tambahkan sepatu terlebih dahulu.")
        return

    # Anda bisa menerapkan algoritma sorting di sini, misalnya bubble sort,
    # jika ingin menampilkan data yang terurut berdasarkan nama atau kode. [cite: 26]
    # Namun, untuk daftar kecil, cetak langsung tidak masalah.

    print("\n" + "="*40)
    print("--- LAPORAN INVENTORI TOKO SEPATU ---")
    print("="*40)
    for i, sepatu in enumerate(inventory): # Struktur kontrol: loop [cite: 31]
        print(f"\n[{i+1}] Kode: {sepatu['kode']}")
        print(f"    Nama: {sepatu['nama']}")
        print(f"    Kategori: {sepatu['kategori']}")
        print(f"    Harga: Rp{sepatu['harga']:,}") # Format harga dengan pemisah ribuan
        print(f"    Ukuran Tersedia: {', '.join(map(str, sepatu['ukuran']))}")
        print(f"    Warna Tersedia: {', '.join(sepatu['warna'])}")
        print("    Stok Detail:")
        if sepatu['stok']:
            for uk_warna, stok in sepatu['stok'].items():
                print(f"      - {uk_warna}: {stok} unit")
        else:
            print("      (Tidak ada detail stok)")
        print("-" * 40)
    print("=== AKHIR LAPORAN ===")


# 3. File I/O (untuk penyimpanan data persisten) [cite: 33, 45]
def simpan_data(inventory, filename="inventori_sepatu.json"):
    """Menyimpan data inventori ke file JSON."""
    try:
        with open(filename, 'w', encoding='utf-8') as f:
            json.dump(inventory, f, indent=4, ensure_ascii=False)
        print(f"Data inventori berhasil disimpan ke '{filename}'.")
        return True
    except IOError as e: # Penanganan Pengecualian (Exception Handling) [cite: 32]
        print(f"Error saat menyimpan data: {e}")
        return False

def muat_data(filename="inventori_sepatu.json"):
    """Memuat data inventori dari file JSON."""
    try:
        with open(filename, 'r', encoding='utf-8') as f:
            inventory = json.load(f)
        print(f"Data inventori berhasil dimuat dari '{filename}'.")
        return inventory
    except FileNotFoundError: # Penanganan Pengecualian [cite: 32]
        print(f"File inventori '{filename}' tidak ditemukan. Membuat inventori baru.")
        return []
    except json.JSONDecodeError as e: # Penanganan Pengecualian [cite: 32]
        print(f"Error membaca file JSON '{filename}': {e}. File mungkin rusak atau kosong. Membuat inventori baru.")
        return []

# 4. Antarmuka Pengguna (Interface yang user-friendly) [cite: 43]
def main_menu():
    """Menampilkan menu utama program."""
    print("\n" + "="*50)
    print("        SISTEM MANAJEMEN INVENTORI TOKO SEPATU        ")
    print("="*50)
    print("1. Tambah Sepatu Baru")
    print("2. Cari Sepatu")
    print("3. Update Stok Sepatu")
    print("4. Hapus Sepatu")
    print("5. Tampilkan Laporan Inventori")
    print("6. Simpan Data Inventori")
    print("7. Muat Data Inventori")
    print("8. Keluar Program")
    print("="*50)

def run_program():
    """Fungsi utama untuk menjalankan program toko sepatu."""
    global shoes_inventory
    shoes_inventory = muat_data() # Muat data saat program dimulai

    while True: # Struktur kontrol: loop utama program [cite: 31]
        main_menu()
        choice = input("Pilih opsi (1-8): ").strip()

        if choice == '1':
            print("\n--- TAMBAH SEPATU BARU ---")
            try:
                kode = input("Masukkan Kode Sepatu (contoh: SKN101): ").strip()
                nama = input("Masukkan Nama Sepatu: ").strip()

                ukuran_input = input("Masukkan Ukuran (pisahkan dengan koma, cth: 39,40,41): ").strip()
                ukuran = [int(u.strip()) for u in ukuran_input.split(',') if u.strip().isdigit()]
                if not ukuran:
                    raise ValueError("Ukuran tidak valid atau kosong.")

                warna_input = input("Masukkan Warna (pisahkan dengan koma, cth: Putih,Hitam): ").strip()
                warna = [w.strip() for w in warna_input.split(',') if w.strip() != '']
                if not warna:
                    raise ValueError("Warna tidak valid atau kosong.")

                harga = int(input("Masukkan Harga (angka bulat, cth: 750000): "))
                if harga <= 0:
                    raise ValueError("Harga harus lebih besar dari nol.")

                stok_detail = {}
                print("\n--- Masukkan Detail Stok per Ukuran-Warna ---")
                for u in ukuran:
                    for w in warna:
                        key = f"{u}-{w}"
                        while True:
                            try:
                                stok_val = int(input(f"Masukkan Stok untuk {key}: "))
                                if stok_val < 0:
                                    print("Stok tidak boleh negatif. Silakan masukkan angka non-negatif.")
                                else:
                                    stok_detail[key] = stok_val
                                    break
                            except ValueError:
                                print("Input stok tidak valid. Harap masukkan angka bulat.")

                kategori = input("Masukkan Kategori (contoh: Sneakers, Boots, Sandal): ").strip()
                if not kategori:
                    raise ValueError("Kategori tidak boleh kosong.")

                tambah_sepatu(shoes_inventory, kode, nama, ukuran, warna, harga, stok_detail, kategori)
            except ValueError as e: # Penanganan Pengecualian [cite: 32]
                print(f"Error input: {e}. Mohon periksa kembali input Anda.")
            except Exception as e:
                print(f"Terjadi kesalahan tak terduga: {e}")

        elif choice == '2':
            print("\n--- CARI SEPATU ---")
            if not shoes_inventory:
                print("Inventori kosong, tidak ada sepatu untuk dicari.")
                continue
            query = input("Masukkan nama atau kode sepatu yang dicari: ").strip()
            search_by = input("Cari berdasarkan (nama/kode)? ").strip().lower()
            if search_by not in ["nama", "kode"]:
                print("Pilihan pencarian tidak valid. Akan mencari berdasarkan nama secara default.")
                search_by = "nama"

            results = cari_sepatu(shoes_inventory, query, search_by)
            if results:
                print("\n--- Hasil Pencarian ---")
                for i, sepatu in enumerate(results):
                    print(f"[{i+1}] Kode: {sepatu['kode']}, Nama: {sepatu['nama']}, Kategori: {sepatu['kategori']}, Harga: Rp{sepatu['harga']:,}")
                    print(f"    Stok: {sepatu['stok']}")
            else:
                print(f"Tidak ada sepatu yang cocok dengan '{query}' ditemukan.")

        elif choice == '3':
            print("\n--- UPDATE STOK SEPATU ---")
            if not shoes_inventory:
                print("Inventori kosong, tidak ada sepatu untuk diupdate stoknya.")
                continue
            kode = input("Masukkan Kode Sepatu yang akan diupdate stoknya: ").strip()

            # Cari sepatu terlebih dahulu untuk menampilkan opsi stok yang tersedia
            found_shoes = cari_sepatu(shoes_inventory, kode, "kode")
            if not found_shoes:
                print(f"Sepatu dengan kode '{kode}' tidak ditemukan.")
                continue

            target_shoe = found_shoes[0] # Ambil sepatu pertama yang cocok (karena kode unik)
            print(f"Mengupdate stok untuk: {target_shoe['nama']} (Kode: {target_shoe['kode']})")
            print("Stok saat ini:")
            if target_shoe['stok']:
                for uk_warna, stok in target_shoe['stok'].items():
                    print(f"  - {uk_warna}: {stok} unit")
            else:
                print("  (Belum ada detail stok untuk sepatu ini)")

            ukuran_warna = input("Masukkan kombinasi ukuran-warna yang akan diupdate (cth: 40-Putih): ").strip()
            while True:
                try:
                    jumlah_baru = int(input(f"Masukkan jumlah stok baru untuk '{ukuran_warna}': "))
                    if jumlah_baru < 0:
                        print("Jumlah stok tidak boleh negatif. Silakan masukkan angka non-negatif.")
                    else:
                        update_stok(shoes_inventory, kode, ukuran_warna, jumlah_baru)
                        break
                except ValueError:
                    print("Input jumlah stok tidak valid. Harap masukkan angka bulat.")

        elif choice == '4':
            print("\n--- HAPUS SEPATU ---")
            if not shoes_inventory:
                print("Inventori kosong, tidak ada sepatu untuk dihapus.")
                continue
            kode = input("Masukkan Kode Sepatu yang akan dihapus: ").strip()
            hapus_sepatu(shoes_inventory, kode)

        elif choice == '5':
            tampilkan_laporan_inventori(shoes_inventory)

        elif choice == '6':
            simpan_data(shoes_inventory)

        elif choice == '7':
            shoes_inventory = muat_data()

        elif choice == '8':
            print("Terima kasih telah menggunakan Sistem Manajemen Inventori Toko Sepatu!")
            print("Sampai jumpa!")
            break # Keluar dari loop dan mengakhiri program
        else:
            print("Pilihan tidak valid. Silakan masukkan angka antara 1 dan 8.")

        input("\nTekan ENTER untuk melanjutkan...") # Memberi jeda agar pengguna bisa membaca output

# Jalankan program saat skrip dieksekusi
if __name__ == "__main__":
    run_program()
